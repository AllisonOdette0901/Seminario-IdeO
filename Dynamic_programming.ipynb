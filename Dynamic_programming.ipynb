{
  "nbformat": 4,
  "nbformat_minor": 0,
  "metadata": {
    "colab": {
      "name": "Dynamic_programming.ipynb",
      "provenance": [],
      "collapsed_sections": [],
      "authorship_tag": "ABX9TyPJAW6triZMPXDasstNJ4O5",
      "include_colab_link": true
    },
    "kernelspec": {
      "name": "python3",
      "display_name": "Python 3"
    },
    "language_info": {
      "name": "python"
    }
  },
  "cells": [
    {
      "cell_type": "markdown",
      "metadata": {
        "id": "view-in-github",
        "colab_type": "text"
      },
      "source": [
        "<a href=\"https://colab.research.google.com/github/AllisonOdette0901/Seminario-IdeO/blob/main/Dynamic_programming.ipynb\" target=\"_parent\"><img src=\"https://colab.research.google.com/assets/colab-badge.svg\" alt=\"Open In Colab\"/></a>"
      ]
    },
    {
      "cell_type": "markdown",
      "source": [
        "# Programación dinámica\n",
        "\n",
        "### Ejemplo1. Fibonacci."
      ],
      "metadata": {
        "id": "OxRWk13cpchD"
      }
    },
    {
      "cell_type": "code",
      "execution_count": null,
      "metadata": {
        "id": "mdMENNlJpSon"
      },
      "outputs": [],
      "source": [
        "def fibonacci_recursion(n):\n",
        "\n",
        "  if n==0:\n",
        "    return 1\n",
        "  if n==1:\n",
        "    return 1\n",
        "  \n",
        "  return fibonacci_recursion(n-1) +  fibonacci_recursion(n-2)"
      ]
    },
    {
      "cell_type": "code",
      "source": [
        "print(fibonacci_recursion(5))"
      ],
      "metadata": {
        "colab": {
          "base_uri": "https://localhost:8080/"
        },
        "id": "w1yboHYeqFUB",
        "outputId": "3f22e261-5402-469f-d01c-f782892165d5"
      },
      "execution_count": null,
      "outputs": [
        {
          "output_type": "stream",
          "name": "stdout",
          "text": [
            "8\n"
          ]
        }
      ]
    },
    {
      "cell_type": "code",
      "source": [
        "# de arriba hacia abajo \n",
        "def fibonacci_memoization(n,table):\n",
        "\n",
        "  if n not in table:\n",
        "    table[n]= fibonacci_memoization(n-1,table) + fibonacci_memoization(n-2,table)\n",
        "\n",
        "  return table[n]"
      ],
      "metadata": {
        "id": "XYx2dJTXqOoh"
      },
      "execution_count": null,
      "outputs": []
    },
    {
      "cell_type": "code",
      "source": [
        "# de abajo hacia arriba\n",
        "def fibonacci_tabulation(n,table):\n",
        "  for i in range(2,n+1):\n",
        "    table[i] = table[i-1] + table[i-2] # patrón general de como generar F(n)\n",
        "\n",
        "  return table[n]"
      ],
      "metadata": {
        "id": "EtVJa3ZRr4Bs"
      },
      "execution_count": null,
      "outputs": []
    },
    {
      "cell_type": "code",
      "source": [
        "# probamos las funciones\n",
        "# se realiza en tiempo exponencial\n",
        "print(fibonacci_recursion(10))\n",
        "t= {0:1, 1:1} #diccionario\n",
        "# tienen una complejidad O(n)\n",
        "print(fibonacci_memoization(10,t))\n",
        "print(fibonacci_tabulation(10,t))"
      ],
      "metadata": {
        "colab": {
          "base_uri": "https://localhost:8080/"
        },
        "id": "ePfQYieLsMk6",
        "outputId": "96c91fe4-06e5-41ad-ad4d-f8475a89f5d7"
      },
      "execution_count": null,
      "outputs": [
        {
          "output_type": "stream",
          "name": "stdout",
          "text": [
            "89\n",
            "89\n",
            "89\n"
          ]
        }
      ]
    },
    {
      "cell_type": "markdown",
      "source": [
        "### Ejemplo2. Problema de la mochila\n",
        "\n",
        "Los parámetros de la función significan:\n",
        "\n",
        "- n: número máximo de elementos.\n",
        "- M: la capacidad máxima de la mochila\n",
        "- w: pesos\n",
        "- v: ingreso unitario de los elementos"
      ],
      "metadata": {
        "id": "HjTdpVzcyVau"
      }
    },
    {
      "cell_type": "code",
      "source": [
        "\n",
        "class ProblemaMochila:\n",
        "  def __init__(self,n, M, w, v):\n",
        "    self.n = n\n",
        "    self.M = M\n",
        "    self.w = w\n",
        "    self.v = v\n",
        "    self.S = [[0 for _ in range(M+1)] for _ in range(n+1)] #tabla de programación dinámica\n",
        "  \n",
        "  def resuelve(self):\n",
        "    # construimos la tabla dinamica S\n",
        "    for i in range(self.n+1):\n",
        "      for w in range(self.M+1):\n",
        "        not_taking_item = self.S[i - 1][w]\n",
        "        taking_item = 0\n",
        "          \n",
        "        if self.w[i] <= w:\n",
        "          taking_item = self.v[i] + self.S[i-1][w - self.w[i]]\n",
        "      # memoization\n",
        "        self.S[i][w] = max(not_taking_item, taking_item)\n",
        "  \n",
        "  def muestra_resultado(self):\n",
        "    print(\"Ganancia Total: %d\" % self.S[self.n][self.M])\n",
        "\n",
        "    w = self.M\n",
        "    for n in range(self.n, 0, -1):\n",
        "      if self.S[n][w]!=0 and self.S[n][w] != self.S[n-1][w]:\n",
        "        print(\"Tomaremos los objetos #%d\" % n)\n",
        "        w = w - self.w[n]\n",
        "\n"
      ],
      "metadata": {
        "id": "zn8wb1qNyZNw"
      },
      "execution_count": null,
      "outputs": []
    },
    {
      "cell_type": "code",
      "source": [
        "if __name__ == '__main__':\n",
        "\n",
        "  num_objetos = 4\n",
        "  capacidad = 8\n",
        "  pesos = [0,2,3,4,5]\n",
        "  ganancias = [0,1,2,5,6]\n",
        "  mochila =  ProblemaMochila(num_objetos, capacidad, pesos, ganancias)\n",
        "  mochila.resuelve()\n",
        "  mochila.muestra_resultado()"
      ],
      "metadata": {
        "colab": {
          "base_uri": "https://localhost:8080/"
        },
        "id": "arBrdneJ2giM",
        "outputId": "dc2d4a3f-eca1-41c2-da9c-ae66635a40bc"
      },
      "execution_count": null,
      "outputs": [
        {
          "output_type": "stream",
          "name": "stdout",
          "text": [
            "Ganancia Total: 8\n",
            "Tomaremos los objetos #4\n",
            "Tomaremos los objetos #2\n"
          ]
        }
      ]
    }
  ]
}