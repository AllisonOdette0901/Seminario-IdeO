{
  "nbformat": 4,
  "nbformat_minor": 0,
  "metadata": {
    "colab": {
      "name": "RYA.ipynb",
      "provenance": [],
      "collapsed_sections": [],
      "authorship_tag": "ABX9TyMWASuSrlkzp1kFbnF0jARr",
      "include_colab_link": true
    },
    "kernelspec": {
      "name": "python3",
      "display_name": "Python 3"
    },
    "language_info": {
      "name": "python"
    }
  },
  "cells": [
    {
      "cell_type": "markdown",
      "metadata": {
        "id": "view-in-github",
        "colab_type": "text"
      },
      "source": [
        "<a href=\"https://colab.research.google.com/github/AllisonOdette0901/Seminario-IdeO/blob/main/RYA.ipynb\" target=\"_parent\"><img src=\"https://colab.research.google.com/assets/colab-badge.svg\" alt=\"Open In Colab\"/></a>"
      ]
    },
    {
      "cell_type": "markdown",
      "source": [
        "# Ramificación y acotamiento para el Problema del Agente Viajero"
      ],
      "metadata": {
        "id": "2ypBA6GEZbPC"
      }
    },
    {
      "cell_type": "code",
      "source": [
        "# paqueterías\n",
        "import networkx as nx\n",
        "import math"
      ],
      "metadata": {
        "id": "iAUZ9wdZZnOE"
      },
      "execution_count": null,
      "outputs": []
    },
    {
      "cell_type": "code",
      "source": [
        "g = nx.Graph() # 4 vértices: 0, 1, 2, 3\n",
        "g.add_edge(0, 1, weight = 1) # arista 1\n",
        "g.add_edge(0, 2, weight = 1) # arista 2\n",
        "g.add_edge(0, 3, weight = 10) # arista 3\n",
        "g.add_edge(1, 2, weight = 5) # arista 4\n",
        "g.add_edge(1, 3, weight = 2) # arista 5\n",
        "g.add_edge(2, 3, weight = 3) # arista 6\n",
        "\n"
      ],
      "metadata": {
        "id": "0h2rQhR-Zu6d"
      },
      "execution_count": null,
      "outputs": []
    },
    {
      "cell_type": "code",
      "execution_count": null,
      "metadata": {
        "id": "C7V0VR-rZTx7"
      },
      "outputs": [],
      "source": [
        "# Esta función calcula una cota inferior de la longitud de los ciclos hamiltonianos que comienzan vértices sub_cycle\n",
        "def lower_bound(g, sub_cycle):\n",
        "    # calculamos el peso del camino actual\n",
        "    current_weight = sum([g[sub_cycle[i]][sub_cycle[i + 1]]['weight'] for i in range(len(sub_cycle) - 1)])\n",
        "    print(\"sub-ciclo:\", sub_cycle, \"peso:\", current_weight)\n",
        "    # Creamos como herramienta una nueva gráfica donde guardamos los vértices no utilizados de g\n",
        "    unused = [v for v in g.nodes() if v not in sub_cycle]\n",
        "    h = g.subgraph(unused)\n",
        "    \n",
        "    # calculamos el peso del árbol de mínima expansión\n",
        "    t = list(nx.minimum_spanning_edges(h))\n",
        "    mst_weight = sum([h.get_edge_data(e[0], e[1])['weight'] for e in t])\n",
        "\n",
        "    # Si la solución actual, sub_cycle es \"trivial\" (i.e., no contiene vértices o  contiene todos los vértices), entonces\n",
        "    # proponemos como cota inferior al árbol de expansión mínima y su peso actual\n",
        "    if len(sub_cycle) == 0 or len(sub_cycle) == g.number_of_nodes():\n",
        "        return mst_weight + current_weight\n",
        "\n",
        "    # Si la solución actual sub_cycle no es trivial, entonces podemos sumar el peso de dos aristas que conectan\n",
        "    # a los vértices de sub_cycle y la parte restante del gráfico\n",
        "    # Sea \"s\" el primer vértice de sub_cycle\n",
        "    s = sub_cycle[0]\n",
        "    # Sea \"t\" el último vértice de sub_cycle\n",
        "    t = sub_cycle[-1]\n",
        "    # Buscamos una arista de peso mínimo que conecta un vértice distinto de los que estan en sub_cycle a s\n",
        "    min_to_s_weight = min([g[v][s]['weight'] for v in g.nodes() if v not in sub_cycle])\n",
        "    # Buscamos una arista de peso mínimo que conecta al vértice t con algún vértice distinto de los que estan en sub_cycle\n",
        "    min_from_t_weight = min([g[t][v]['weight'] for v in g.nodes() if v not in sub_cycle])\n",
        "\n",
        "    # Cualquier ciclo que comience con sub_cycle debe tener una longitud:\n",
        "    # el peso de las aristas de sub_cycle +\n",
        "    # el mínimo peso de una arista que conecta a sub_cycle y los vertices restantes +\n",
        "    # el mínimo peso de una arista que conecta a los vertices restantes y sub_cycle \n",
        "    return current_weight + min_from_t_weight + mst_weight + min_to_s_weight\n",
        "\n",
        "\n",
        "# Branch and bound (Ramificación y acotamiento)\n",
        "# 1. Una gráfica g;\n",
        "# 2. La solución actual sub_cycle, i.e. several first vertices of cycle under consideration.\n",
        "# Iniciamos sub_cycle, que está vacio;\n",
        "# 3. La mejor solución actual es: current_min, no consideramos caminos de mayor peso\n",
        "# El peso inicial es infinito\n",
        "def branch_and_bound(g, sub_cycle=None, current_min=float(\"inf\")):\n",
        "    # si la solución actual es vacía, entonces comenzamos en el vértice 0.\n",
        "    if sub_cycle is None:\n",
        "        sub_cycle = [0]\n",
        "\n",
        "    # Si tenemos todos los vértices de g en el ciclo, entonces calculamos el peso del ciclo y lo retornamos\n",
        "    if len(sub_cycle) == g.number_of_nodes():\n",
        "        weight = sum([g[sub_cycle[i]][sub_cycle[i + 1]]['weight'] for i in range(len(sub_cycle) - 1)])\n",
        "        weight = weight + g[sub_cycle[-1]][sub_cycle[0]]['weight']\n",
        "        return weight\n",
        "\n",
        "    # Ahora buscamos todos los nodos los cuales no han sido utilizados en el sub_cyclye\n",
        "    unused_nodes = list()\n",
        "    for v in g.nodes():\n",
        "        if v not in sub_cycle:\n",
        "          # guardamos (distancia de (v-1,v), vertice)\n",
        "            unused_nodes.append((g[sub_cycle[-1]][v]['weight'], v))\n",
        "    \n",
        "    print(\"Nodos no utilizados:\",unused_nodes)\n",
        "\n",
        "    # Los ordenamos por la distancia resultante desde el \"nodo actual\", que es el último nodo de sub_cycle\n",
        "    unused_nodes = sorted(unused_nodes)\n",
        "\n",
        "    for (d, v) in unused_nodes:\n",
        "        assert v not in sub_cycle # Nos aseguramos que efectivamente v no está en sub_cycle\n",
        "        extended_subcycle = list(sub_cycle)\n",
        "        extended_subcycle.append(v) # guardamos el nodo v que aun no estaba en la solución\n",
        "        print('Lista',extended_subcycle)\n",
        "        # Para cada vértice no utilizado al guardarlo en extended_subcycle, checamos si es un ciclo más corto, si es así lo guardamos\n",
        "        #print(\"LWB\", lower_bound(g, extended_subcycle))\n",
        "        if lower_bound(g, extended_subcycle) < current_min:           \n",
        "            # If there is such a chance, we add the vertex to the current cycle, and proceed recursively.\n",
        "            new_current_min = branch_and_bound(g, extended_subcycle, current_min)\n",
        "            if new_current_min < current_min: \n",
        "              # actualizamos el ciclo más corto\n",
        "               current_min = new_current_min\n",
        "               print(\"Menor distancia:\", current_min)\n",
        "\n",
        "    # retornamos el ciclo de menor longitud\n",
        "    return current_min"
      ]
    },
    {
      "cell_type": "code",
      "source": [
        "branch_and_bound(g)"
      ],
      "metadata": {
        "colab": {
          "base_uri": "https://localhost:8080/"
        },
        "id": "xVF1VvDsZllT",
        "outputId": "d30dd0e2-1034-46df-8573-abd176e8873b"
      },
      "execution_count": null,
      "outputs": [
        {
          "output_type": "stream",
          "name": "stdout",
          "text": [
            "Nodos no utilizados: [(1, 1), (1, 2), (10, 3)]\n",
            "Lista [0, 1]\n",
            "sub-ciclo: [0, 1] peso: 1\n",
            "Nodos no utilizados: [(5, 2), (2, 3)]\n",
            "Lista [0, 1, 3]\n",
            "sub-ciclo: [0, 1, 3] peso: 3\n",
            "Nodos no utilizados: [(3, 2)]\n",
            "Lista [0, 1, 3, 2]\n",
            "sub-ciclo: [0, 1, 3, 2] peso: 6\n",
            "Menor distancia: 7\n",
            "Menor distancia: 7\n",
            "Lista [0, 1, 2]\n",
            "sub-ciclo: [0, 1, 2] peso: 6\n",
            "Menor distancia: 7\n",
            "Lista [0, 2]\n",
            "sub-ciclo: [0, 2] peso: 1\n",
            "Lista [0, 3]\n",
            "sub-ciclo: [0, 3] peso: 10\n"
          ]
        },
        {
          "output_type": "execute_result",
          "data": {
            "text/plain": [
              "7"
            ]
          },
          "metadata": {},
          "execution_count": 7
        }
      ]
    },
    {
      "cell_type": "markdown",
      "source": [
        "\n",
        "\n",
        "> Ejemplo 2. Con coordenadas\n",
        "\n"
      ],
      "metadata": {
        "id": "8-11WVowbJzY"
      }
    },
    {
      "cell_type": "code",
      "source": [
        "#  Calculamos la distancia entre dos puntos\n",
        "def dist(x1, y1, x2, y2):\n",
        "    return math.sqrt((x1 - x2) ** 2 + (y1 - y2) ** 2)\n",
        "# Función que recibe una lista de 2 tuplas que son las coordenadas\n",
        "# y retornamos la gráfica correspondiente\n",
        "def get_graph(coordinates):\n",
        "    g = nx.Graph()\n",
        "    n = len(coordinates)\n",
        "    for i in range(n):\n",
        "        for j in range(i + 1):\n",
        "            g.add_edge(i, j, weight=dist(coordinates[i][0], coordinates[i][1], coordinates[j][0], coordinates[j][1]))\n",
        "    return g"
      ],
      "metadata": {
        "id": "IYtcLvbRc5jf"
      },
      "execution_count": null,
      "outputs": []
    },
    {
      "cell_type": "code",
      "source": [
        "# red 4\n",
        "coordenadas = [(174, 25), (129, 99), (268, 212), (211, 209), (156, 82)]\n",
        "g2 = get_graph(coordenadas)\n",
        "branch_and_bound(g2)"
      ],
      "metadata": {
        "id": "BfvTrkgtbHog"
      },
      "execution_count": null,
      "outputs": []
    }
  ]
}